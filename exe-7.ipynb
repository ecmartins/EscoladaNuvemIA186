{
 "cells": [
  {
   "cell_type": "code",
   "execution_count": 6,
   "id": "7ccd5f37",
   "metadata": {},
   "outputs": [
    {
     "name": "stdout",
     "output_type": "stream",
     "text": [
      "Dados do DataFrame:\n",
      "    modelo  tempo_execucao\n",
      "0  ModeloA             120\n",
      "1  ModeloB             150\n",
      "2  ModeloC             130\n",
      "3  ModeloD             110\n",
      "4  ModeloE             140\n",
      "5  ModeloF             190\n",
      "6  ModeloG             100\n",
      "\n",
      "Média do tempo de execução: 134.29 segundos\n",
      "Desvio padrão do tempo de execução: 29.92 segundos\n"
     ]
    }
   ],
   "source": [
    "import pandas as pd\n",
    "\n",
    "df = pd.read_csv('csv/logs_treinamento.csv')\n",
    "\n",
    "print(\"Dados do DataFrame:\")\n",
    "print(df)\n",
    "\n",
    "media_tempo = df['tempo_execucao'].mean()\n",
    "desvio_padrao_tempo = df['tempo_execucao'].std()\n",
    "\n",
    "print(f\"\\nMédia do tempo de execução: {media_tempo:.2f} segundos\")\n",
    "print(f\"Desvio padrão do tempo de execução: {desvio_padrao_tempo:.2f} segundos\")"
   ]
  },
  {
   "cell_type": "code",
   "execution_count": 20,
   "id": "4717073f",
   "metadata": {},
   "outputs": [
    {
     "name": "stdout",
     "output_type": "stream",
     "text": [
      "Dados salvos em dados.csv\n"
     ]
    }
   ],
   "source": [
    "import os\n",
    "import csv\n",
    "\n",
    "dados = [\n",
    "    ['Pedro', 28, 'Recife'],\n",
    "    ['Maria', 22, 'Rio de Janeiro'],\n",
    "    ['Pedro', 35, 'Belo Horizonte'],\n",
    "    ['Ana', 30, 'Curitiba'],\n",
    "    ['Lucas', 25, 'Porto Alegre']\n",
    "]\n",
    "\n",
    "nome_arquivo = input(\"Digite o nome do arquivo CSV: \")\n",
    "caminho_arquivo = os.path.join('csv', nome_arquivo)\n",
    "\n",
    "def escrever_csv(title, data):\n",
    "    with open(title, 'w') as arquivo_csv:\n",
    "        escritor = csv.writer(arquivo_csv)\n",
    "        escritor.writerow(['Nome','Idade','Cidade'])\n",
    "        for linha in dados:\n",
    "            escritor.writerow(linha)\n",
    "    print(f\"Dados salvos em {nome_arquivo}\") \n",
    "\n",
    "escrever_csv(caminho_arquivo, dados)"
   ]
  },
  {
   "cell_type": "code",
   "execution_count": 21,
   "id": "0e132ac3",
   "metadata": {},
   "outputs": [
    {
     "data": {
      "text/html": [
       "<div>\n",
       "<style scoped>\n",
       "    .dataframe tbody tr th:only-of-type {\n",
       "        vertical-align: middle;\n",
       "    }\n",
       "\n",
       "    .dataframe tbody tr th {\n",
       "        vertical-align: top;\n",
       "    }\n",
       "\n",
       "    .dataframe thead th {\n",
       "        text-align: right;\n",
       "    }\n",
       "</style>\n",
       "<table border=\"1\" class=\"dataframe\">\n",
       "  <thead>\n",
       "    <tr style=\"text-align: right;\">\n",
       "      <th></th>\n",
       "      <th>Nome</th>\n",
       "      <th>Idade</th>\n",
       "      <th>Cidade</th>\n",
       "    </tr>\n",
       "  </thead>\n",
       "  <tbody>\n",
       "    <tr>\n",
       "      <th>0</th>\n",
       "      <td>Pedro</td>\n",
       "      <td>28</td>\n",
       "      <td>Recife</td>\n",
       "    </tr>\n",
       "    <tr>\n",
       "      <th>1</th>\n",
       "      <td>Maria</td>\n",
       "      <td>22</td>\n",
       "      <td>Rio de Janeiro</td>\n",
       "    </tr>\n",
       "    <tr>\n",
       "      <th>2</th>\n",
       "      <td>Pedro</td>\n",
       "      <td>35</td>\n",
       "      <td>Belo Horizonte</td>\n",
       "    </tr>\n",
       "    <tr>\n",
       "      <th>3</th>\n",
       "      <td>Ana</td>\n",
       "      <td>30</td>\n",
       "      <td>Curitiba</td>\n",
       "    </tr>\n",
       "    <tr>\n",
       "      <th>4</th>\n",
       "      <td>Lucas</td>\n",
       "      <td>25</td>\n",
       "      <td>Porto Alegre</td>\n",
       "    </tr>\n",
       "  </tbody>\n",
       "</table>\n",
       "</div>"
      ],
      "text/plain": [
       "    Nome  Idade          Cidade\n",
       "0  Pedro     28          Recife\n",
       "1  Maria     22  Rio de Janeiro\n",
       "2  Pedro     35  Belo Horizonte\n",
       "3    Ana     30        Curitiba\n",
       "4  Lucas     25    Porto Alegre"
      ]
     },
     "execution_count": 21,
     "metadata": {},
     "output_type": "execute_result"
    }
   ],
   "source": [
    "import pandas as pd\n",
    "\n",
    "df = pd.read_csv(\"csv/dados.csv\")\n",
    "df"
   ]
  },
  {
   "cell_type": "code",
   "execution_count": 25,
   "id": "ebbc03a2",
   "metadata": {},
   "outputs": [
    {
     "name": "stdout",
     "output_type": "stream",
     "text": [
      "Dados salvos em json\\dados.json\n"
     ]
    },
    {
     "data": {
      "text/html": [
       "<div>\n",
       "<style scoped>\n",
       "    .dataframe tbody tr th:only-of-type {\n",
       "        vertical-align: middle;\n",
       "    }\n",
       "\n",
       "    .dataframe tbody tr th {\n",
       "        vertical-align: top;\n",
       "    }\n",
       "\n",
       "    .dataframe thead th {\n",
       "        text-align: right;\n",
       "    }\n",
       "</style>\n",
       "<table border=\"1\" class=\"dataframe\">\n",
       "  <thead>\n",
       "    <tr style=\"text-align: right;\">\n",
       "      <th></th>\n",
       "      <th>Nome</th>\n",
       "      <th>Idade</th>\n",
       "      <th>Cidade</th>\n",
       "    </tr>\n",
       "  </thead>\n",
       "  <tbody>\n",
       "    <tr>\n",
       "      <th>0</th>\n",
       "      <td>Pedro</td>\n",
       "      <td>28</td>\n",
       "      <td>Recife</td>\n",
       "    </tr>\n",
       "    <tr>\n",
       "      <th>1</th>\n",
       "      <td>Maria</td>\n",
       "      <td>22</td>\n",
       "      <td>Rio de Janeiro</td>\n",
       "    </tr>\n",
       "    <tr>\n",
       "      <th>2</th>\n",
       "      <td>Pedro</td>\n",
       "      <td>35</td>\n",
       "      <td>Belo Horizonte</td>\n",
       "    </tr>\n",
       "    <tr>\n",
       "      <th>3</th>\n",
       "      <td>Ana</td>\n",
       "      <td>30</td>\n",
       "      <td>Curitiba</td>\n",
       "    </tr>\n",
       "    <tr>\n",
       "      <th>4</th>\n",
       "      <td>Lucas</td>\n",
       "      <td>25</td>\n",
       "      <td>Porto Alegre</td>\n",
       "    </tr>\n",
       "  </tbody>\n",
       "</table>\n",
       "</div>"
      ],
      "text/plain": [
       "    Nome  Idade          Cidade\n",
       "0  Pedro     28          Recife\n",
       "1  Maria     22  Rio de Janeiro\n",
       "2  Pedro     35  Belo Horizonte\n",
       "3    Ana     30        Curitiba\n",
       "4  Lucas     25    Porto Alegre"
      ]
     },
     "execution_count": 25,
     "metadata": {},
     "output_type": "execute_result"
    }
   ],
   "source": [
    "import json\n",
    "\n",
    "nome_arquivo = input(\"Digite o nome do arquivo JSON: \")\n",
    "caminho_arquivo = os.path.join('json', nome_arquivo)\n",
    "\n",
    "def escrever_json(title, data):\n",
    "    dados_dict = [\n",
    "        {'Nome': linha[0], 'Idade': linha[1], 'Cidade': linha[2]}\n",
    "        for linha in data\n",
    "    ]\n",
    "    with open(title, 'w') as arquivo_json:\n",
    "        json.dump(dados_dict, arquivo_json, ensure_ascii=False, indent=4)\n",
    "    print(f\"Dados salvos em {title}\")\n",
    "\n",
    "\n",
    "escrever_json(caminho_arquivo, dados)\n",
    "\n",
    "df = pd.read_json(\"json/dados.json\")\n",
    "df"
   ]
  }
 ],
 "metadata": {
  "kernelspec": {
   "display_name": "Python 3",
   "language": "python",
   "name": "python3"
  },
  "language_info": {
   "codemirror_mode": {
    "name": "ipython",
    "version": 3
   },
   "file_extension": ".py",
   "mimetype": "text/x-python",
   "name": "python",
   "nbconvert_exporter": "python",
   "pygments_lexer": "ipython3",
   "version": "3.13.2"
  }
 },
 "nbformat": 4,
 "nbformat_minor": 5
}
