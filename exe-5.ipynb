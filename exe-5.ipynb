{
 "cells": [
  {
   "cell_type": "code",
   "execution_count": 1,
   "id": "5e9573b7",
   "metadata": {},
   "outputs": [
    {
     "name": "stdout",
     "output_type": "stream",
     "text": [
      "Gorjeta: R$ 100.00\n"
     ]
    }
   ],
   "source": [
    "def calcular_gorjeta(conta, gojeta):\n",
    "    porcentagem = gojeta / 100\n",
    "    gorjeta = conta * porcentagem\n",
    "    print(f\"Gorjeta: R$ {gorjeta:.2f}\")\n",
    "\n",
    "valor_conta = float(input(\"Digite o valor da conta: R$ \"))\n",
    "gorjeta_percentual = float(input(\"Digite a porcentagem da gorjeta: \"))\n",
    "\n",
    "calcular_gorjeta(valor_conta, gorjeta_percentual)"
   ]
  },
  {
   "cell_type": "code",
   "execution_count": 6,
   "id": "739add8b",
   "metadata": {},
   "outputs": [
    {
     "name": "stdout",
     "output_type": "stream",
     "text": [
      "Texto: arara\n",
      "É palíndromo? Sim\n"
     ]
    }
   ],
   "source": [
    "import string\n",
    "\n",
    "def isPalindromo(texto):\n",
    "    texto_limpo = ''.join(c.lower() for c in texto if c.isalnum())\n",
    "    return \"Sim\" if texto_limpo == texto_limpo[::-1] else \"Não\"\n",
    "\n",
    "entrada = input(\"Digite uma palavra ou frase: \")\n",
    "resultado = isPalindromo(entrada)\n",
    "print(f\"Texto: {entrada}\")\n",
    "print(f\"É palíndromo? {resultado}\")"
   ]
  },
  {
   "cell_type": "code",
   "execution_count": 7,
   "id": "6145f560",
   "metadata": {},
   "outputs": [
    {
     "name": "stdout",
     "output_type": "stream",
     "text": [
      "Preço final com desconto: R$ 75.00\n"
     ]
    }
   ],
   "source": [
    "preco_produto = float(input(\"Digite o preço do produto: R$ \"))\n",
    "percentual_desconto = float(input(\"Digite o percentual de desconto: \"))\n",
    "\n",
    "valor_desconto = preco_produto * (percentual_desconto / 100)\n",
    "preco_final = preco_produto - valor_desconto\n",
    "\n",
    "print(f\"Preço final com desconto: R$ {preco_final:.2f}\")"
   ]
  },
  {
   "cell_type": "code",
   "execution_count": 9,
   "id": "8d9898f2",
   "metadata": {},
   "outputs": [
    {
     "name": "stdout",
     "output_type": "stream",
     "text": [
      "Idade em dias: 8030 dias\n"
     ]
    }
   ],
   "source": [
    "from datetime import datetime as dt\n",
    "\n",
    "def idade_em_dias(ano_nascimento):\n",
    "    ano_atual = dt.now().year\n",
    "    idade_anos = ano_atual - ano_nascimento\n",
    "    idade_dias = idade_anos * 365\n",
    "    return idade_dias\n",
    "\n",
    "ano_nascimento = int(input(\"Digite o ano de nascimento: \"))\n",
    "dias = idade_em_dias(ano_nascimento)\n",
    "\n",
    "print(f\"Idade em dias: {dias} dias\")"
   ]
  }
 ],
 "metadata": {
  "kernelspec": {
   "display_name": "Python 3",
   "language": "python",
   "name": "python3"
  },
  "language_info": {
   "codemirror_mode": {
    "name": "ipython",
    "version": 3
   },
   "file_extension": ".py",
   "mimetype": "text/x-python",
   "name": "python",
   "nbconvert_exporter": "python",
   "pygments_lexer": "ipython3",
   "version": "3.13.2"
  }
 },
 "nbformat": 4,
 "nbformat_minor": 5
}
