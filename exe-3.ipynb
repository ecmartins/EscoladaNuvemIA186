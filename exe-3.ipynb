{
 "cells": [
  {
   "cell_type": "code",
   "execution_count": 1,
   "id": "3eb03735",
   "metadata": {},
   "outputs": [
    {
     "name": "stdout",
     "output_type": "stream",
     "text": [
      "A=314.1593\n"
     ]
    }
   ],
   "source": [
    "pi = 3.14159265\n",
    "raio = float(input(\"Digite o raio: \"))\n",
    "area = pi * raio ** 2\n",
    "\n",
    "print(f\"A={area:.4f}\")"
   ]
  },
  {
   "cell_type": "code",
   "execution_count": 5,
   "id": "d75b46da",
   "metadata": {},
   "outputs": [
    {
     "name": "stdout",
     "output_type": "stream",
     "text": [
      "Idoso\n"
     ]
    }
   ],
   "source": [
    "idade = int(input(\"Digite a idade: \"))\n",
    "\n",
    "if idade > 0 and idade <= 12:\n",
    "    print(\"Criança\")\n",
    "elif idade > 12 and idade <= 17:\n",
    "    print(\"Adolescente\")\n",
    "elif idade > 17 and idade <= 59:\n",
    "    print(\"Adulto\")\n",
    "elif idade >= 60:\n",
    "    print(\"Idoso\")"
   ]
  },
  {
   "cell_type": "code",
   "execution_count": 9,
   "id": "fb2ee771",
   "metadata": {},
   "outputs": [
    {
     "name": "stdout",
     "output_type": "stream",
     "text": [
      "IMC: 21.88\n",
      "Peso normal\n"
     ]
    }
   ],
   "source": [
    "peso = float(input(\"Digite o peso: \"))\n",
    "altura = float(input(\"Digite a altura: \"))\n",
    "\n",
    "imc = peso / (altura ** 2)\n",
    "print(f\"IMC: {imc:.2f}\")\n",
    "\n",
    "if imc < 18.5:\n",
    "    print(\"Abaixo do peso\")\n",
    "elif imc >= 18.5 and imc < 25:\n",
    "    print(\"Peso normal\")   \n",
    "elif imc >= 25 and imc < 30:\n",
    "    print(\"Sobrepeso\")\n",
    "elif imc >= 30 and imc < 40:\n",
    "    print(\"Obeso\")"
   ]
  },
  {
   "cell_type": "code",
   "execution_count": null,
   "id": "7deed74e",
   "metadata": {},
   "outputs": [
    {
     "name": "stdout",
     "output_type": "stream",
     "text": [
      "124.00 F = 51.11 C\n"
     ]
    }
   ],
   "source": [
    "def converter_temperatura(valor, origem, destino):\n",
    "    if origem == 'C':\n",
    "        temp_c = valor\n",
    "    elif origem == 'F':\n",
    "        temp_c = (valor - 32) * 5/9\n",
    "    elif origem == 'K':\n",
    "        temp_c = valor - 273.15\n",
    "    else:\n",
    "        raise ValueError(\"Unidade de origem inválida.\")\n",
    "\n",
    "    if destino == 'C':\n",
    "        return temp_c\n",
    "    elif destino == 'F':\n",
    "        return temp_c * 9/5 + 32\n",
    "    elif destino == 'K':\n",
    "        return temp_c + 273.15\n",
    "    else:\n",
    "        raise ValueError(\"Unidade de destino inválida.\")\n",
    "\n",
    "valor = float(input(\"Digite a temperatura: \"))\n",
    "origem = input(\"Unidade de origem (C/F/K): \").strip().upper()\n",
    "destino = input(\"Unidade de destino (C/F/K): \").strip().upper()\n",
    "\n",
    "resultado = converter_temperatura(valor, origem, destino)\n",
    "print(f\"{valor:.2f} {origem} = {resultado:.2f} {destino}\")"
   ]
  },
  {
   "cell_type": "code",
   "execution_count": 16,
   "id": "27ab6e7b",
   "metadata": {},
   "outputs": [
    {
     "name": "stdout",
     "output_type": "stream",
     "text": [
      "2028 é bissexto.\n"
     ]
    }
   ],
   "source": [
    "ano = int(input(\"Digite um ano: \"))\n",
    "\n",
    "if ano % 4 == 0: # Se for divisível por 4, pode ser que seja bissexto.\n",
    "    if ano % 100 == 0: # Se for divisível por 100, precisa ser analisado mais uma vez.\n",
    "        if ano % 400 == 0: # Se for divisível por 400 também, ele é um ano bissexto.\n",
    "            print(f\"{ano} é bissexto.\")\n",
    "        else: # É divisível por 4, por 100, mas não é divisível por 400, portanto não é bissexto.\n",
    "            print(f\"{ano} não é bissexto.\")    \n",
    "    else: # É divisível por 4 e não é por 100, portanto é bissexto.\n",
    "        print(f\"{ano} é bissexto.\")\n",
    "else: # Se não for divisível por 4, então não é bissexto.\n",
    "    print(f\"{ano} não é bissexto.\")"
   ]
  },
  {
   "cell_type": "code",
   "execution_count": null,
   "id": "e5569279",
   "metadata": {},
   "outputs": [],
   "source": [
    "nome = input(\"Favor inserir o nome do vendedor: \")\n",
    "\n",
    "salario_fixo = float(input(\"Insira o salário fixo: R$ \"))\n",
    "total_vendas = float(input(\"Insira o total de vendas: R$ \"))\n",
    "\n",
    "comissao_percentual = 0.15\n",
    "comissao = total_vendas * comissao_percentual\n",
    "\n",
    "total_receber = salario_fixo + comissao\n",
    "\n",
    "print(f\"O vendedor {nome} irá receber R$ {total_receber:.2f}\")"
   ]
  },
  {
   "cell_type": "code",
   "execution_count": 18,
   "id": "3fcb3ac9",
   "metadata": {},
   "outputs": [
    {
     "name": "stdout",
     "output_type": "stream",
     "text": [
      "Media: 10.0\n",
      "Aluno aprovado.\n"
     ]
    }
   ],
   "source": [
    "notas = input(\"Digite as notas separadas por barra de espaço: \").split()\n",
    "N1, N2, N3, N4 = map(float, notas)\n",
    "\n",
    "media = (N1 * 2 + N2 * 3 + N3 * 4 + N4 * 1) / 10\n",
    "print(f\"Media: {media:.1f}\")\n",
    "\n",
    "if media >= 7.0:\n",
    "    print(\"Aluno aprovado.\")\n",
    "elif media < 5.0:\n",
    "    print(\"Aluno reprovado.\")\n",
    "else:\n",
    "    print(\"Aluno em exame.\")\n",
    "    nota_exame = float(input())\n",
    "    print(f\"Nota do exame: {nota_exame:.1f}\")\n",
    "    media_final = (media + nota_exame) / 2\n",
    "    if media_final >= 5.0:\n",
    "        print(\"Aluno aprovado.\")\n",
    "    else:\n",
    "        print(\"Aluno reprovado.\")\n",
    "    print(f\"Media final: {media_final:.1f}\")"
   ]
  }
 ],
 "metadata": {
  "kernelspec": {
   "display_name": "Python 3",
   "language": "python",
   "name": "python3"
  },
  "language_info": {
   "codemirror_mode": {
    "name": "ipython",
    "version": 3
   },
   "file_extension": ".py",
   "mimetype": "text/x-python",
   "name": "python",
   "nbconvert_exporter": "python",
   "pygments_lexer": "ipython3",
   "version": "3.13.2"
  }
 },
 "nbformat": 4,
 "nbformat_minor": 5
}
