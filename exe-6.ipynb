{
 "cells": [
  {
   "cell_type": "code",
   "execution_count": 3,
   "id": "3f71ef02",
   "metadata": {},
   "outputs": [
    {
     "name": "stdout",
     "output_type": "stream",
     "text": [
      "Senha gerada: RAyZ;-_?4c~M\n"
     ]
    }
   ],
   "source": [
    "import random\n",
    "import string\n",
    "\n",
    "def gerar_senha(tamanho):\n",
    "    caracteres = string.ascii_letters + string.digits + string.punctuation\n",
    "    senha = ''.join(random.choice(caracteres) for _ in range(tamanho))\n",
    "    return senha\n",
    "\n",
    "\n",
    "tamanho = int(input(\"Informe o tamanho da senha desejada: \"))\n",
    "senha_gerada = gerar_senha(tamanho)\n",
    "print(f\"Senha gerada: {senha_gerada}\")"
   ]
  },
  {
   "cell_type": "code",
   "execution_count": 16,
   "id": "85c18400",
   "metadata": {},
   "outputs": [
    {
     "name": "stdout",
     "output_type": "stream",
     "text": [
      "CEP: 04543-011\n",
      "Logradouro: Avenida Presidente Juscelino Kubitschek\n",
      "Bairro: Vila Nova Conceição\n",
      "Cidade: São Paulo\n",
      "Estado: SP\n"
     ]
    }
   ],
   "source": [
    "import requests\n",
    "\n",
    "cep = input(\"Digite o CEP: \")\n",
    "response = requests.get(f'https://viacep.com.br/ws/{cep}/json/')\n",
    "\n",
    "if response.status_code == 200:\n",
    "    dados_cep = response.json()\n",
    "    if not 'erro' in dados_cep:\n",
    "        print(f\"CEP: {dados_cep['cep']}\")\n",
    "        print(f\"Logradouro: {dados_cep['logradouro']}\")\n",
    "        print(f\"Bairro: {dados_cep['bairro']}\")\n",
    "        print(f\"Cidade: {dados_cep['localidade']}\")\n",
    "        print(f\"Estado: {dados_cep['uf']}\")\n",
    "    else:\n",
    "        print(\"CEP inválido.\")"
   ]
  },
  {
   "cell_type": "code",
   "execution_count": 20,
   "id": "9557e272",
   "metadata": {},
   "outputs": [
    {
     "name": "stdout",
     "output_type": "stream",
     "text": [
      "Nome: Emily Harcourt\n",
      "Email: emily.harcourt@example.com\n",
      "País: Canada\n"
     ]
    }
   ],
   "source": [
    "response = requests.get('https://randomuser.me/api/')\n",
    "if response.status_code == 200:\n",
    "    data = response.json()\n",
    "    user = data['results'][0]\n",
    "    nome = f\"{user['name']['first']} {user['name']['last']}\"\n",
    "    email = user['email']\n",
    "    pais = user['location']['country']\n",
    "    print(f\"Nome: {nome}\\nEmail: {email}\\nPaís: {pais}\")\n",
    "else:\n",
    "    print(\"Erro ao obter dados do usuário.\")"
   ]
  },
  {
   "cell_type": "code",
   "execution_count": 21,
   "id": "36f4c4c0",
   "metadata": {},
   "outputs": [
    {
     "name": "stdout",
     "output_type": "stream",
     "text": [
      "Cotação USD/BRL\n",
      "Valor atual: R$ 5.4196\n",
      "Valor máximo: R$ 5.4211\n",
      "Valor mínimo: R$ 5.41276\n",
      "Última atualização: 2025-07-06 21:55:15\n"
     ]
    }
   ],
   "source": [
    "codigo_moeda = input(\"Informe o código da moeda desejada (ex: USD, EUR, GBP): \").upper()\n",
    "\n",
    "url = f\"https://economia.awesomeapi.com.br/json/last/{codigo_moeda}-BRL\"\n",
    "resposta = requests.get(url)\n",
    "\n",
    "if resposta.status_code == 200:\n",
    "    cotacao = resposta.json().get(f\"{codigo_moeda}BRL\")\n",
    "    if cotacao:\n",
    "        valor_atual = cotacao['bid']\n",
    "        valor_max = cotacao['high']\n",
    "        valor_min = cotacao['low']\n",
    "        data_hora = cotacao['create_date']\n",
    "        print(f\"Cotação {codigo_moeda}/BRL\")\n",
    "        print(f\"Valor atual: R$ {valor_atual}\")\n",
    "        print(f\"Valor máximo: R$ {valor_max}\")\n",
    "        print(f\"Valor mínimo: R$ {valor_min}\")\n",
    "        print(f\"Última atualização: {data_hora}\")\n",
    "    else:\n",
    "        print(\"Moeda não encontrada ou código inválido.\")\n",
    "else:\n",
    "    print(\"Erro ao consultar a cotação.\")"
   ]
  }
 ],
 "metadata": {
  "kernelspec": {
   "display_name": "Python 3",
   "language": "python",
   "name": "python3"
  },
  "language_info": {
   "codemirror_mode": {
    "name": "ipython",
    "version": 3
   },
   "file_extension": ".py",
   "mimetype": "text/x-python",
   "name": "python",
   "nbconvert_exporter": "python",
   "pygments_lexer": "ipython3",
   "version": "3.13.2"
  }
 },
 "nbformat": 4,
 "nbformat_minor": 5
}
