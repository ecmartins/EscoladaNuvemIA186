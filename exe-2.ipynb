{
 "cells": [
  {
   "cell_type": "code",
   "execution_count": 2,
   "id": "142be09c",
   "metadata": {},
   "outputs": [
    {
     "name": "stdout",
     "output_type": "stream",
     "text": [
      "R$ 100.00\n",
      "R$ 19.23\n",
      "R$ 16.26\n"
     ]
    }
   ],
   "source": [
    "def realDollar(valor):\n",
    "    return valor / 5.2\n",
    "\n",
    "def realEuro(valor):\n",
    "    return valor / 6.15\n",
    "\n",
    "real = 100.00\n",
    "dolar = realDollar(real)\n",
    "euro = realEuro(real)\n",
    "\n",
    "for x in [real, dolar, euro]:\n",
    "    print(f\"R$ {x:.2f}\")"
   ]
  },
  {
   "cell_type": "code",
   "execution_count": 3,
   "id": "3e8ca282",
   "metadata": {},
   "outputs": [
    {
     "name": "stdout",
     "output_type": "stream",
     "text": [
      "Nome do produto: Camisa | Desconto: 0.2 | Preço final: 10.0\n"
     ]
    }
   ],
   "source": [
    "produto = {\n",
    "    \"nome\": \"Camisa\",\n",
    "    \"preco\": 50.00,\n",
    "    \"desconto\": 0.20\n",
    "}\n",
    "\n",
    "print(f\"Nome do produto: {produto['nome']} | Desconto: {produto['desconto']} | Preço final: {produto['preco'] * produto['desconto']}\")"
   ]
  },
  {
   "cell_type": "code",
   "execution_count": 7,
   "metadata": {},
   "outputs": [
    {
     "name": "stdout",
     "output_type": "stream",
     "text": [
      "Distância percorrida: 300km | Combústivel gasto: 25l | Consumo médio: 12.00km/l\n"
     ]
    }
   ],
   "source": [
    "distancia = 300\n",
    "combustivel = 25\n",
    "\n",
    "print(f\"Distância percorrida: {distancia}km | Combústivel gasto: {combustivel}l | Consumo médio: {distancia/combustivel:.2f}km/l\")"
   ]
  },
  {
   "cell_type": "code",
   "execution_count": 4,
   "id": "6623eba8",
   "metadata": {},
   "outputs": [
    {
     "name": "stdout",
     "output_type": "stream",
     "text": [
      "O aluno tirou 7.33 de média\n"
     ]
    }
   ],
   "source": [
    "def calcMedia(notas):\n",
    "    return sum(notas) / len(notas)\n",
    "\n",
    "n1, n2, n3 = 7.5, 8.0, 6.5\n",
    "\n",
    "media = calcMedia([n1, n2, n3])\n",
    "\n",
    "print(f\"O aluno tirou {media:.2f} de média\")"
   ]
  },
  {
   "cell_type": "code",
   "execution_count": 6,
   "id": "6b31e43a",
   "metadata": {},
   "outputs": [
    {
     "name": "stdout",
     "output_type": "stream",
     "text": [
      "X = 20\n"
     ]
    }
   ],
   "source": [
    "a = int(input(\"Digite um número inteiro: \"))\n",
    "b = int(input(\"Digite um número inteiro: \"))\n",
    "x = a + b\n",
    "\n",
    "print(f\"X = {x}\")"
   ]
  },
  {
   "cell_type": "code",
   "execution_count": 8,
   "metadata": {},
   "outputs": [
    {
     "name": "stdout",
     "output_type": "stream",
     "text": [
      "Número de funcionário: 687 | Salário por horas trabalhadas = R$ 804.00\n"
     ]
    }
   ],
   "source": [
    "numero_funcionario = int(input(\"Digite o número de funcionário: \"))\n",
    "horas_trabalhadas = int(input(\"Digite as horas trabalhadas: \"))\n",
    "valor_por_hora = float(input(\"Digite o valor recebido por hora: \"))\n",
    "\n",
    "print(f\"Número de funcionário: {numero_funcionario} | Salário por horas trabalhadas = R$ {valor_por_hora*horas_trabalhadas:.2f}\")"
   ]
  }
 ],
 "metadata": {
  "kernelspec": {
   "display_name": "Python 3",
   "language": "python",
   "name": "python3"
  },
  "language_info": {
   "codemirror_mode": {
    "name": "ipython",
    "version": 3
   },
   "file_extension": ".py",
   "mimetype": "text/x-python",
   "name": "python",
   "nbconvert_exporter": "python",
   "pygments_lexer": "ipython3",
   "version": "3.13.2"
  }
 },
 "nbformat": 4,
 "nbformat_minor": 5
}
