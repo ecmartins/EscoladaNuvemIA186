{
 "cells": [
  {
   "cell_type": "code",
   "execution_count": 3,
   "id": "9af4c68e",
   "metadata": {},
   "outputs": [
    {
     "name": "stdout",
     "output_type": "stream",
     "text": [
      "Resultado: 13.0 + 17.0 = 30.0\n"
     ]
    }
   ],
   "source": [
    "def calculadora():\n",
    "    while True:\n",
    "        try:\n",
    "            num1 = input(\"Digite o primeiro número: \")\n",
    "            num1 = float(num1)\n",
    "        except ValueError:\n",
    "            print(\"Erro: Entrada inválida. Por favor, digite um número válido.\")\n",
    "            continue\n",
    "\n",
    "        try:\n",
    "            num2 = input(\"Digite o segundo número: \")\n",
    "            num2 = float(num2)\n",
    "        except ValueError:\n",
    "            print(\"Erro: Entrada inválida. Por favor, digite um número válido.\")\n",
    "            continue\n",
    "\n",
    "        operacao = input(\"Digite a operação (+, -, *, /): \")\n",
    "        if operacao not in ['+', '-', '*', '/']:\n",
    "            print(\"Erro: Operação inválida. Escolha entre +, -, * ou /.\")\n",
    "            continue\n",
    "\n",
    "        try:\n",
    "            if operacao == '+':\n",
    "                resultado = num1 + num2\n",
    "            elif operacao == '-':\n",
    "                resultado = num1 - num2\n",
    "            elif operacao == '*':\n",
    "                resultado = num1 * num2\n",
    "            elif operacao == '/':\n",
    "                resultado = num1 / num2\n",
    "        except ZeroDivisionError:\n",
    "            print(\"Erro: Divisão por zero não é permitida.\")\n",
    "            continue\n",
    "\n",
    "        print(f\"Resultado: {num1} {operacao} {num2} = {resultado}\")\n",
    "        break\n",
    "\n",
    "calculadora()"
   ]
  },
  {
   "cell_type": "code",
   "execution_count": 5,
   "id": "a1c31330",
   "metadata": {},
   "outputs": [
    {
     "name": "stdout",
     "output_type": "stream",
     "text": [
      "Entrada inválida. Por favor, digite um número entre 0 e 10.\n",
      "Entrada inválida. Por favor, digite um número entre 0 e 10.\n",
      "Média das notas: 8.75\n"
     ]
    }
   ],
   "source": [
    "notas = []\n",
    "\n",
    "while True:\n",
    "    nota = input(\"Digite uma nota (ou 'fim' para encerrar): \")\n",
    "    if nota.lower() == 'fim':\n",
    "        break\n",
    "    try:\n",
    "        nota = float(nota)\n",
    "        if 0 <= nota <= 10:\n",
    "            notas.append(nota)\n",
    "        else:\n",
    "            raise ValueError\n",
    "    except ValueError:\n",
    "        print(\"Entrada inválida. Por favor, digite um número entre 0 e 10.\")\n",
    "        continue\n",
    "\n",
    "if notas:\n",
    "    media = sum(notas) / len(notas)\n",
    "    print(f\"Média das notas: {media:.2f}\")"
   ]
  },
  {
   "cell_type": "code",
   "execution_count": 10,
   "id": "4eeb039d",
   "metadata": {},
   "outputs": [
    {
     "name": "stdout",
     "output_type": "stream",
     "text": [
      "Senha forte cadastrada com sucesso!\n",
      "brsao186\n"
     ]
    }
   ],
   "source": [
    "while True:\n",
    "    senha = input(\"Digite uma senha (ou 'sair' para encerrar): \")\n",
    "    if senha.lower() == 'sair':\n",
    "        print(\"Encerrando o programa.\")\n",
    "        break\n",
    "    if len(senha) < 8:\n",
    "        print(\"A senha deve ter pelo menos 8 caracteres.\")\n",
    "        continue\n",
    "    if not any(char.isdigit() for char in senha):\n",
    "        print(\"A senha deve conter pelo menos um número.\")\n",
    "        continue\n",
    "    print(\"Senha forte cadastrada com sucesso!\")\n",
    "    break\n",
    "\n",
    "print(senha)"
   ]
  },
  {
   "cell_type": "code",
   "execution_count": 11,
   "id": "4a74316b",
   "metadata": {},
   "outputs": [
    {
     "name": "stdout",
     "output_type": "stream",
     "text": [
      "10 é par.\n",
      "3 é ímpar.\n",
      "5 é ímpar.\n",
      "8 é par.\n",
      "2 é par.\n",
      "1 é ímpar.\n",
      "7 é ímpar.\n",
      "9 é ímpar.\n",
      "6 é par.\n",
      "Encerrando o programa.\n",
      "Quantidade de números pares: 4\n",
      "Quantidade de números ímpares: 5\n"
     ]
    }
   ],
   "source": [
    "pares = []\n",
    "impares = []\n",
    "\n",
    "while True:\n",
    "    num = input(\"Digite um número inteiro positivo (ou 'fim' para encerrar): \")\n",
    "    if num.lower() == 'fim':\n",
    "        print(\"Encerrando o programa.\")\n",
    "        break\n",
    "    try:\n",
    "        num = int(num)\n",
    "        if num % 2 == 0:\n",
    "            print(f\"{num} é par.\")\n",
    "            pares.append(num)\n",
    "        elif num % 2 != 0:\n",
    "            print(f\"{num} é ímpar.\")\n",
    "            impares.append(num)\n",
    "    except ValueError:\n",
    "        print(\"Entrada inválida. Por favor, digite um número inteiro positivo.\")\n",
    "        continue\n",
    "\n",
    "print(f'Quantidade de números pares: {len(pares)}')\n",
    "print(f'Quantidade de números ímpares: {len(impares)}')"
   ]
  }
 ],
 "metadata": {
  "kernelspec": {
   "display_name": "Python 3",
   "language": "python",
   "name": "python3"
  },
  "language_info": {
   "codemirror_mode": {
    "name": "ipython",
    "version": 3
   },
   "file_extension": ".py",
   "mimetype": "text/x-python",
   "name": "python",
   "nbconvert_exporter": "python",
   "pygments_lexer": "ipython3",
   "version": "3.13.2"
  }
 },
 "nbformat": 4,
 "nbformat_minor": 5
}
