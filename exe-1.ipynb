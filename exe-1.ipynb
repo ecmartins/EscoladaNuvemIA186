{
 "cells": [
  {
   "cell_type": "code",
   "execution_count": 1,
   "id": "4a4bc623",
   "metadata": {},
   "outputs": [
    {
     "name": "stdout",
     "output_type": "stream",
     "text": [
      "Hello, world!\n"
     ]
    }
   ],
   "source": [
    "print(\"Hello, world!\")"
   ]
  },
  {
   "cell_type": "code",
   "execution_count": 2,
   "id": "07f206cc",
   "metadata": {},
   "outputs": [
    {
     "name": "stdout",
     "output_type": "stream",
     "text": [
      "26\n"
     ]
    }
   ],
   "source": [
    "numero1 = 12\n",
    "numero2 = 14\n",
    "\n",
    "soma = numero1 + numero2\n",
    "print(soma)"
   ]
  },
  {
   "cell_type": "code",
   "execution_count": 3,
   "id": "59a1197e",
   "metadata": {},
   "outputs": [
    {
     "name": "stdout",
     "output_type": "stream",
     "text": [
      "Volume: 3360cm³\n"
     ]
    }
   ],
   "source": [
    "comprimento = 12\n",
    "largura = 14\n",
    "altura = 20\n",
    "volume = comprimento * largura * altura\n",
    "\n",
    "print(f\"Volume: {volume}cm³\")"
   ]
  },
  {
   "cell_type": "code",
   "execution_count": 5,
   "id": "0172e28e",
   "metadata": {},
   "outputs": [
    {
     "name": "stdout",
     "output_type": "stream",
     "text": [
      "Nome: Cadeira Infantil\n",
      "Preço unitário: R$12.40\n",
      "Quantidade: 3\n",
      "Valor total: R$37.20\n"
     ]
    }
   ],
   "source": [
    "produto = {\n",
    "    \"nome\": \"Cadeira Infantil\",\n",
    "    \"preco\": 12.40,\n",
    "    \"quantidade\": 3\n",
    "}\n",
    "\n",
    "print(f\"\"\"Nome: {produto['nome']}\n",
    "Preço unitário: R${produto['preco']:.2f}\n",
    "Quantidade: {produto['quantidade']}\n",
    "Valor total: R${produto['preco']*produto['quantidade']:.2f}\"\"\")"
   ]
  },
  {
   "cell_type": "code",
   "execution_count": 6,
   "id": "d01ecee4",
   "metadata": {},
   "outputs": [
    {
     "name": "stdout",
     "output_type": "stream",
     "text": [
      "DIFERENCA = 3\n"
     ]
    }
   ],
   "source": [
    "a = int(input(\"Digite um valor inteiro: \"))\n",
    "b = int(input(\"Digite um valor inteiro: \"))\n",
    "c = int(input(\"Digite um valor inteiro: \"))\n",
    "d = int(input(\"Digite um valor inteiro: \"))\n",
    "diferenca = (a * b) - (c * d)\n",
    "\n",
    "print(f\"DIFERENCA = {diferenca}\")"
   ]
  }
 ],
 "metadata": {
  "kernelspec": {
   "display_name": "Python 3",
   "language": "python",
   "name": "python3"
  },
  "language_info": {
   "codemirror_mode": {
    "name": "ipython",
    "version": 3
   },
   "file_extension": ".py",
   "mimetype": "text/x-python",
   "name": "python",
   "nbconvert_exporter": "python",
   "pygments_lexer": "ipython3",
   "version": "3.13.2"
  }
 },
 "nbformat": 4,
 "nbformat_minor": 5
}
